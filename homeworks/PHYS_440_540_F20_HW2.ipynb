{
 "cells": [
  {
   "cell_type": "markdown",
   "metadata": {},
   "source": [
    "# Homework 2: Problems (due 7 October 2020 before class)\n",
    "### PHYS 440/540, Fall 2020\n",
    "https://github.com/gtrichards/PHYS_440_540/\n",
    "\n",
    "\n",
    "## Problem 1\n",
    "Follow the example from the Central Limit Theorem cells in BasicStats2.ipynb and simulate the distribution of 1,000,000 draws of a (very) non-Gaussian distribution (for example chi-square with low $k$).  Demonstrate that the result confirms the central limit theorem by showing that the mean of the draws becomes Gaussian with large `N`.\n",
    "\n",
    "Note that you'll need functions to both generate the true distribution and also to take random draws from it.\n",
    "\n",
    "See below for code starter.\n",
    "\n",
    "\n",
    "## Problem 2\n",
    "\n",
    "On Data Camp:\n",
    "\n",
    "Do Chapters 1 and 2 of \"Exploratory Data Analysis in Python\" to get some practice with CDF.  \n",
    "\n",
    "Chapter 2 is actually the only one that I care about, but it makes sense to do chapter 1 to give you some context.  Chapter 1 introduces some Pandas tools.  I'm not planning on assigning the \"Data Manipulation with Pandas\" course, but you might find that useful as well.  \n",
    "\n",
    "Note this lesson talks about PMFs.  A PMF is a PDF for a discrete distribution.  For the sake of comparing this assignment to class you can think of PMFs and PDFs as the same thing."
   ]
  },
  {
   "cell_type": "code",
   "execution_count": null,
   "metadata": {},
   "outputs": [],
   "source": [
    "import numpy as np\n",
    "from matplotlib import pyplot as plt\n",
    "from scipy.stats import norm\n",
    "from scipy import stats\n",
    "\n",
    "N=2 # Number of draws.  Show both small and large values\n",
    "\n",
    "xgrid = np.linspace(____,____,____) # Array to sample the space\n",
    "\n",
    "dist = stats.____(____) # Complete\n",
    "plt.plot(xgrid,____.pdf(____)) # Complete\n",
    "\n",
    "#Rug plot of N random draws\n",
    "x = np.random.____(____) # N random draws\n",
    "plt.plot(x, 0*x, '|', markersize=50) #Rug plot of random draws\n",
    "plt.xlabel('x')\n",
    "plt.ylabel('pdf')\n",
    "plt.xlim(____,____) #Limit the x-axis range to make things easier to see\n",
    "\n",
    "# Repeat that 1,000,000 times, averaging the N draws each time\n",
    "yy = []\n",
    "for i in np.arange(____): # Complete\n",
    "    xx = np.random.____(_____) # N random draws\n",
    "    yy.append(xx.mean()) # Append average of those random draws to the end of the array\n",
    "\n",
    "#Plot the histogram with Scott or Freedman bins    \n",
    "_ = plt.hist(yy,____,____,histtype=\"stepfilled\",alpha=0.5)\n",
    "\n",
    "#Overplot a Gaussian at the appropriate location\n",
    "distG = stats.norm(loc=____,scale=np.sqrt(2*np.pi/N)) # Complete\n",
    "plt.plot(____,____.____(____)) # Complete"
   ]
  },
  {
   "cell_type": "markdown",
   "metadata": {},
   "source": [
    "### Some useful definitions and functions"
   ]
  },
  {
   "cell_type": "code",
   "execution_count": 1,
   "metadata": {
    "collapsed": true
   },
   "outputs": [],
   "source": [
    "import numpy as np\n",
    "from matplotlib import pyplot as plt\n",
    "from scipy import stats\n",
    "from astroML.plotting import setup_text_plots\n",
    "from astroML.stats import sigmaG\n",
    "from astroML.plotting import hist as fancyhist\n",
    "setup_text_plots(fontsize=14, usetex=True)\n",
    "%matplotlib inline"
   ]
  },
  {
   "cell_type": "markdown",
   "metadata": {},
   "source": [
    "This astroML function adjusts matplotlib settings for a uniform feel in the \n",
    "textbook. Note that with `usetex=True`, fonts are rendered with $\\LaTeX$. This \n",
    "may result in an error if $\\LaTeX$ is not installed on your system.  In that \n",
    "case, you can set usetex to `False`."
   ]
  }
 ],
 "metadata": {
  "anaconda-cloud": {},
  "kernelspec": {
   "display_name": "Python 3",
   "language": "python",
   "name": "python3"
  },
  "language_info": {
   "codemirror_mode": {
    "name": "ipython",
    "version": 3
   },
   "file_extension": ".py",
   "mimetype": "text/x-python",
   "name": "python",
   "nbconvert_exporter": "python",
   "pygments_lexer": "ipython3",
   "version": "3.8.3"
  }
 },
 "nbformat": 4,
 "nbformat_minor": 2
}
